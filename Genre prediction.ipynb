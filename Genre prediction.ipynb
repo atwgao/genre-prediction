{
 "cells": [
  {
   "cell_type": "markdown",
   "metadata": {},
   "source": [
    "# Genre Prediction\n",
    "Test task for the Hi Karl interview. I use data about events to predict a music genre of the event."
   ]
  },
  {
   "cell_type": "code",
   "execution_count": 493,
   "metadata": {
    "collapsed": false
   },
   "outputs": [],
   "source": [
    "%matplotlib inline\n",
    "import json\n",
    "import random\n",
    "from collections import defaultdict\n",
    "import tqdm\n",
    "import numpy as np\n",
    "import pandas as pd\n",
    "import matplotlib.pyplot as plt\n",
    "import sklearn\n",
    "import sklearn.preprocessing\n",
    "import sklearn.cross_validation\n",
    "import sklearn.tree\n",
    "import sklearn.ensemble\n",
    "import nltk\n",
    "import gensim"
   ]
  },
  {
   "cell_type": "markdown",
   "metadata": {},
   "source": [
    "I use pandas to have a look at data. After data is loaded from CSV I convert it into numpy array. It helps with creating fast, readable and extendable code."
   ]
  },
  {
   "cell_type": "code",
   "execution_count": 84,
   "metadata": {
    "collapsed": false
   },
   "outputs": [
    {
     "data": {
      "text/html": [
       "<div>\n",
       "<table border=\"1\" class=\"dataframe\">\n",
       "  <thead>\n",
       "    <tr style=\"text-align: right;\">\n",
       "      <th></th>\n",
       "      <th>_id</th>\n",
       "      <th>artists</th>\n",
       "      <th>cost</th>\n",
       "      <th>description</th>\n",
       "      <th>end</th>\n",
       "      <th>genre_categories</th>\n",
       "      <th>promoters</th>\n",
       "      <th>source</th>\n",
       "      <th>start</th>\n",
       "      <th>tags</th>\n",
       "      <th>ticket_status</th>\n",
       "      <th>title</th>\n",
       "      <th>url</th>\n",
       "      <th>venue</th>\n",
       "      <th>venue_address</th>\n",
       "      <th>venue_location_lat</th>\n",
       "      <th>venue_location_lng</th>\n",
       "      <th>venue_name</th>\n",
       "      <th>venue_aggregated</th>\n",
       "    </tr>\n",
       "  </thead>\n",
       "  <tbody>\n",
       "    <tr>\n",
       "      <th>0</th>\n",
       "      <td>EB_24633274788</td>\n",
       "      <td>[]</td>\n",
       "      <td>Check ticket supplier</td>\n",
       "      <td>Club Bonafide opens at 6:00pm | 21+ admitted |...</td>\n",
       "      <td>1.482979e+09</td>\n",
       "      <td>[]</td>\n",
       "      <td>[]</td>\n",
       "      <td>eventbrite</td>\n",
       "      <td>1.482971e+09</td>\n",
       "      <td>[]</td>\n",
       "      <td>1.0</td>\n",
       "      <td>Rachel Therrien Latin Jazz Quartet at Club Bon...</td>\n",
       "      <td>https://www.eventbrite.com/e/rachel-therrien-l...</td>\n",
       "      <td>{u'name': u'Club Bonafide', u'tags': [], u'ide...</td>\n",
       "      <td>212 East 52nd St</td>\n",
       "      <td>40.759394</td>\n",
       "      <td>-73.969780</td>\n",
       "      <td>Club Bonafide</td>\n",
       "      <td>{u'name': u'Club Bonafide', u'tags': [], u'ide...</td>\n",
       "    </tr>\n",
       "    <tr>\n",
       "      <th>1</th>\n",
       "      <td>EB_25870011902</td>\n",
       "      <td>[]</td>\n",
       "      <td>Check ticket supplier</td>\n",
       "      <td>Master of the Hammond B-3 organ for more than ...</td>\n",
       "      <td>1.488076e+09</td>\n",
       "      <td>[u'house']</td>\n",
       "      <td>[]</td>\n",
       "      <td>eventbrite</td>\n",
       "      <td>1.488071e+09</td>\n",
       "      <td>[]</td>\n",
       "      <td>1.0</td>\n",
       "      <td>Dr. Lonnie Smith Trio</td>\n",
       "      <td>https://www.eventbrite.com/e/dr-lonnie-smith-t...</td>\n",
       "      <td>{u'name': u'Kumble Theater', u'tags': [], u'id...</td>\n",
       "      <td>LIU Brooklyn Campus</td>\n",
       "      <td>40.690399</td>\n",
       "      <td>-73.981133</td>\n",
       "      <td>Kumble Theater</td>\n",
       "      <td>{u'name': u'Kumble Theater', u'tags': [], u'id...</td>\n",
       "    </tr>\n",
       "    <tr>\n",
       "      <th>2</th>\n",
       "      <td>EB_26234588360</td>\n",
       "      <td>[]</td>\n",
       "      <td>Check ticket supplier</td>\n",
       "      <td>Club Bonafide opens at 6:00pm | 21+ admitted |...</td>\n",
       "      <td>1.483155e+09</td>\n",
       "      <td>[]</td>\n",
       "      <td>[]</td>\n",
       "      <td>eventbrite</td>\n",
       "      <td>1.483151e+09</td>\n",
       "      <td>[]</td>\n",
       "      <td>1.0</td>\n",
       "      <td>Cookin' Hooks with Billy Ruegger - Late Night ...</td>\n",
       "      <td>https://www.eventbrite.com/e/cookin-hooks-with...</td>\n",
       "      <td>{u'name': u'Club Bonafide', u'tags': [], u'ide...</td>\n",
       "      <td>212 East 52nd St</td>\n",
       "      <td>40.759394</td>\n",
       "      <td>-73.969780</td>\n",
       "      <td>Club Bonafide</td>\n",
       "      <td>{u'name': u'Club Bonafide', u'tags': [], u'ide...</td>\n",
       "    </tr>\n",
       "    <tr>\n",
       "      <th>3</th>\n",
       "      <td>EB_27029923228</td>\n",
       "      <td>[]</td>\n",
       "      <td>Check ticket supplier</td>\n",
       "      <td>Doors at 10AMAdvance $20  |  At the Door $25  ...</td>\n",
       "      <td>1.486228e+09</td>\n",
       "      <td>[u'rock', u'pop']</td>\n",
       "      <td>[]</td>\n",
       "      <td>eventbrite</td>\n",
       "      <td>1.486224e+09</td>\n",
       "      <td>[]</td>\n",
       "      <td>1.0</td>\n",
       "      <td>Paper Canoe Co.</td>\n",
       "      <td>https://www.eventbrite.com/e/paper-canoe-co-ti...</td>\n",
       "      <td>{u'name': u'National Sawdust', u'tags': [], u'...</td>\n",
       "      <td>80 North 6th Street</td>\n",
       "      <td>40.718902</td>\n",
       "      <td>-73.961340</td>\n",
       "      <td>National Sawdust</td>\n",
       "      <td>{u'name': u'National Sawdust', u'tags': [], u'...</td>\n",
       "    </tr>\n",
       "    <tr>\n",
       "      <th>4</th>\n",
       "      <td>EB_28370571142</td>\n",
       "      <td>[]</td>\n",
       "      <td>Check ticket supplier</td>\n",
       "      <td>Popgun Presents\\nChad Valley &amp; Computer Magic\\...</td>\n",
       "      <td>1.486098e+09</td>\n",
       "      <td>[u'indie pop']</td>\n",
       "      <td>[]</td>\n",
       "      <td>eventbrite</td>\n",
       "      <td>1.486080e+09</td>\n",
       "      <td>[]</td>\n",
       "      <td>1.0</td>\n",
       "      <td>PopGun Presents: Chad Valley &amp; Computer Magic ...</td>\n",
       "      <td>https://www.eventbrite.com/e/popgun-presents-c...</td>\n",
       "      <td>{u'name': u'Brooklyn Bazaar', u'tags': [], u'i...</td>\n",
       "      <td>150 Greenpoint Avenue</td>\n",
       "      <td>40.729924</td>\n",
       "      <td>-73.954635</td>\n",
       "      <td>Brooklyn Bazaar</td>\n",
       "      <td>{u'name': u'Brooklyn Bazaar', u'tags': [], u'i...</td>\n",
       "    </tr>\n",
       "  </tbody>\n",
       "</table>\n",
       "</div>"
      ],
      "text/plain": [
       "              _id artists                   cost  \\\n",
       "0  EB_24633274788      []  Check ticket supplier   \n",
       "1  EB_25870011902      []  Check ticket supplier   \n",
       "2  EB_26234588360      []  Check ticket supplier   \n",
       "3  EB_27029923228      []  Check ticket supplier   \n",
       "4  EB_28370571142      []  Check ticket supplier   \n",
       "\n",
       "                                         description           end  \\\n",
       "0  Club Bonafide opens at 6:00pm | 21+ admitted |...  1.482979e+09   \n",
       "1  Master of the Hammond B-3 organ for more than ...  1.488076e+09   \n",
       "2  Club Bonafide opens at 6:00pm | 21+ admitted |...  1.483155e+09   \n",
       "3  Doors at 10AMAdvance $20  |  At the Door $25  ...  1.486228e+09   \n",
       "4  Popgun Presents\\nChad Valley & Computer Magic\\...  1.486098e+09   \n",
       "\n",
       "    genre_categories promoters      source         start tags  ticket_status  \\\n",
       "0                 []        []  eventbrite  1.482971e+09   []            1.0   \n",
       "1         [u'house']        []  eventbrite  1.488071e+09   []            1.0   \n",
       "2                 []        []  eventbrite  1.483151e+09   []            1.0   \n",
       "3  [u'rock', u'pop']        []  eventbrite  1.486224e+09   []            1.0   \n",
       "4     [u'indie pop']        []  eventbrite  1.486080e+09   []            1.0   \n",
       "\n",
       "                                               title  \\\n",
       "0  Rachel Therrien Latin Jazz Quartet at Club Bon...   \n",
       "1                              Dr. Lonnie Smith Trio   \n",
       "2  Cookin' Hooks with Billy Ruegger - Late Night ...   \n",
       "3                                    Paper Canoe Co.   \n",
       "4  PopGun Presents: Chad Valley & Computer Magic ...   \n",
       "\n",
       "                                                 url  \\\n",
       "0  https://www.eventbrite.com/e/rachel-therrien-l...   \n",
       "1  https://www.eventbrite.com/e/dr-lonnie-smith-t...   \n",
       "2  https://www.eventbrite.com/e/cookin-hooks-with...   \n",
       "3  https://www.eventbrite.com/e/paper-canoe-co-ti...   \n",
       "4  https://www.eventbrite.com/e/popgun-presents-c...   \n",
       "\n",
       "                                               venue          venue_address  \\\n",
       "0  {u'name': u'Club Bonafide', u'tags': [], u'ide...       212 East 52nd St   \n",
       "1  {u'name': u'Kumble Theater', u'tags': [], u'id...    LIU Brooklyn Campus   \n",
       "2  {u'name': u'Club Bonafide', u'tags': [], u'ide...       212 East 52nd St   \n",
       "3  {u'name': u'National Sawdust', u'tags': [], u'...    80 North 6th Street   \n",
       "4  {u'name': u'Brooklyn Bazaar', u'tags': [], u'i...  150 Greenpoint Avenue   \n",
       "\n",
       "   venue_location_lat  venue_location_lng        venue_name  \\\n",
       "0           40.759394          -73.969780     Club Bonafide   \n",
       "1           40.690399          -73.981133    Kumble Theater   \n",
       "2           40.759394          -73.969780     Club Bonafide   \n",
       "3           40.718902          -73.961340  National Sawdust   \n",
       "4           40.729924          -73.954635   Brooklyn Bazaar   \n",
       "\n",
       "                                    venue_aggregated  \n",
       "0  {u'name': u'Club Bonafide', u'tags': [], u'ide...  \n",
       "1  {u'name': u'Kumble Theater', u'tags': [], u'id...  \n",
       "2  {u'name': u'Club Bonafide', u'tags': [], u'ide...  \n",
       "3  {u'name': u'National Sawdust', u'tags': [], u'...  \n",
       "4  {u'name': u'Brooklyn Bazaar', u'tags': [], u'i...  "
      ]
     },
     "execution_count": 84,
     "metadata": {},
     "output_type": "execute_result"
    }
   ],
   "source": [
    "DATA_FILE_PATH = 'NYCevents.csv'\n",
    "df = pd.read_csv(DATA_FILE_PATH, sep=',')\n",
    "events = df.values\n",
    "df.head()"
   ]
  },
  {
   "cell_type": "code",
   "execution_count": 172,
   "metadata": {
    "collapsed": false
   },
   "outputs": [
    {
     "data": {
      "text/plain": [
       "_id                   12697\n",
       "artists               12687\n",
       "cost                  11585\n",
       "description            8283\n",
       "end                    8020\n",
       "genre_categories      12697\n",
       "promoters              8020\n",
       "source                12687\n",
       "start                  8020\n",
       "tags                   8020\n",
       "ticket_status          6837\n",
       "title                 12687\n",
       "url                    8020\n",
       "venue                  5874\n",
       "venue_address         11851\n",
       "venue_location_lat    11841\n",
       "venue_location_lng    11841\n",
       "venue_name            12687\n",
       "venue_aggregated       8020\n",
       "dtype: int64"
      ]
     },
     "execution_count": 172,
     "metadata": {},
     "output_type": "execute_result"
    }
   ],
   "source": [
    "df.count()"
   ]
  },
  {
   "cell_type": "markdown",
   "metadata": {},
   "source": [
    "Some elements doesn't have id. To ensure correct a model's work in the future let's fill them."
   ]
  },
  {
   "cell_type": "code",
   "execution_count": 86,
   "metadata": {
    "collapsed": false
   },
   "outputs": [],
   "source": [
    "def fill_id(elem):\n",
    "    # If id isn't provided, choose random value\n",
    "    if elem is np.NaN: \n",
    "        return 'RANDOM{}'.format(random.randint(1, 10 ** 15))\n",
    "    return elem\n",
    "df['_id'] = df['_id'].apply(fill_id)"
   ]
  },
  {
   "cell_type": "markdown",
   "metadata": {},
   "source": [
    "Let's understand which tags should be predicted by model."
   ]
  },
  {
   "cell_type": "code",
   "execution_count": 87,
   "metadata": {
    "collapsed": true
   },
   "outputs": [],
   "source": [
    "all_categories = set()\n",
    "\n",
    "\n",
    "def find_all_categories(elem):\n",
    "    global all_categories\n",
    "    current_categories = set(eval(elem))\n",
    "    all_categories = all_categories.union(current_categories)"
   ]
  },
  {
   "cell_type": "code",
   "execution_count": 88,
   "metadata": {
    "collapsed": false
   },
   "outputs": [],
   "source": [
    "df.genre_categories.apply(find_all_categories)\n",
    "all_categories = list(all_categories)"
   ]
  },
  {
   "cell_type": "code",
   "execution_count": 89,
   "metadata": {
    "collapsed": false
   },
   "outputs": [
    {
     "name": "stdout",
     "output_type": "stream",
     "text": [
      "Categories num: 16\n"
     ]
    }
   ],
   "source": [
    "print('Categories num:', len(all_categories))"
   ]
  },
  {
   "cell_type": "markdown",
   "metadata": {},
   "source": [
    "And get other information about dataset"
   ]
  },
  {
   "cell_type": "code",
   "execution_count": 90,
   "metadata": {
    "collapsed": false
   },
   "outputs": [
    {
     "name": "stdout",
     "output_type": "stream",
     "text": [
      "NaN counts:\n",
      "_id - 0\n",
      "artists - 10\n",
      "cost - 1112\n",
      "description - 4414\n",
      "end - 4677\n",
      "genre_categories - 0\n",
      "promoters - 4677\n",
      "source - 10\n",
      "start - 4677\n",
      "tags - 4677\n",
      "ticket_status - 5860\n",
      "title - 10\n",
      "url - 4677\n",
      "venue - 6823\n",
      "venue_address - 846\n",
      "venue_location_lat - 856\n",
      "venue_location_lng - 856\n",
      "venue_name - 10\n",
      "venue_aggregated - 4677\n"
     ]
    }
   ],
   "source": [
    "print('NaN counts:')\n",
    "for column_name in list(df):\n",
    "    print(column_name, '-', df[column_name].isnull().sum())"
   ]
  },
  {
   "cell_type": "code",
   "execution_count": 91,
   "metadata": {
    "collapsed": false
   },
   "outputs": [
    {
     "name": "stdout",
     "output_type": "stream",
     "text": [
      "Types:\n",
      "_id - object\n",
      "artists - object\n",
      "cost - object\n",
      "description - object\n",
      "end - float64\n",
      "genre_categories - object\n",
      "promoters - object\n",
      "source - object\n",
      "start - float64\n",
      "tags - object\n",
      "ticket_status - float64\n",
      "title - object\n",
      "url - object\n",
      "venue - object\n",
      "venue_address - object\n",
      "venue_location_lat - float64\n",
      "venue_location_lng - float64\n",
      "venue_name - object\n",
      "venue_aggregated - object\n"
     ]
    }
   ],
   "source": [
    "print('Types:')\n",
    "for column_name in list(df):\n",
    "    print(column_name, '-', df[column_name].dtype)"
   ]
  },
  {
   "cell_type": "markdown",
   "metadata": {},
   "source": [
    "## Feature generation"
   ]
  },
  {
   "cell_type": "code",
   "execution_count": 92,
   "metadata": {
    "collapsed": false
   },
   "outputs": [],
   "source": [
    "(ID_COLUMN, ARTISTS_COLUMN, COST_COLUMN, \n",
    " DESCRIPTION_COLUMN, END_COLUMN, GENRE_CATEGORIES_COLUMN,\n",
    " PROMOTERS_COLUMN, SOURCE_COLUMN, START_COLUMN, TAGS_COLUMN,\n",
    " TICKET_STATUS_COLUMN, TITLE_COLUMN, URL_COLUMN, VENUE_COLUMN,\n",
    " VENUE_ADRESS_COLUMN, VENUE_LOCATION_LAT_COLUMN,\n",
    " VENUE_LOCATION_LNG_COLUMN, VENUE_NAME_COLUMN, VENUE_AGGREGATED_COLUMN) = range(19)"
   ]
  },
  {
   "cell_type": "markdown",
   "metadata": {},
   "source": [
    "### Ticket status"
   ]
  },
  {
   "cell_type": "code",
   "execution_count": 93,
   "metadata": {
    "collapsed": false
   },
   "outputs": [
    {
     "data": {
      "text/plain": [
       "1.0    6494\n",
       "3.0     179\n",
       "2.0     164\n",
       "Name: ticket_status, dtype: int64"
      ]
     },
     "execution_count": 93,
     "metadata": {},
     "output_type": "execute_result"
    }
   ],
   "source": [
    "df.ticket_status.value_counts()"
   ]
  },
  {
   "cell_type": "markdown",
   "metadata": {},
   "source": [
    "Trying to use conception that **non existence of the value may be a feature**.\n",
    "Actually, this decision should depend on the way data is collected."
   ]
  },
  {
   "cell_type": "code",
   "execution_count": 164,
   "metadata": {
    "collapsed": true
   },
   "outputs": [],
   "source": [
    "def ticket_status_feature(elem):\n",
    "    if np.isnan(elem[TICKET_STATUS_COLUMN]):\n",
    "        yield 0.0 # Generator is used to support multiple features by one function\n",
    "    else:\n",
    "        yield elem[TICKET_STATUS_COLUMN]"
   ]
  },
  {
   "cell_type": "markdown",
   "metadata": {},
   "source": [
    "### Artists"
   ]
  },
  {
   "cell_type": "code",
   "execution_count": 216,
   "metadata": {
    "collapsed": false
   },
   "outputs": [],
   "source": [
    "# Find all names of artists\n",
    "artist_names = []\n",
    "for elem in events:\n",
    "    # Pass all NaNs\n",
    "    if type(elem[ARTISTS_COLUMN]) == float:\n",
    "        continue\n",
    "    elem_artists = eval(elem[ARTISTS_COLUMN])\n",
    "    for artist in elem_artists:\n",
    "        if 'name' in artist:\n",
    "            artist_names.append(artist['name'])\n",
    "artist_names = list(set(artist_names))"
   ]
  },
  {
   "cell_type": "code",
   "execution_count": 232,
   "metadata": {
    "collapsed": false
   },
   "outputs": [
    {
     "data": {
      "text/plain": [
       "MultiLabelBinarizer(classes=None, sparse_output=False)"
      ]
     },
     "execution_count": 232,
     "metadata": {},
     "output_type": "execute_result"
    }
   ],
   "source": [
    "artist_names_mlb = sklearn.preprocessing.MultiLabelBinarizer()\n",
    "artist_names_mlb.fit([artist_names])"
   ]
  },
  {
   "cell_type": "code",
   "execution_count": 207,
   "metadata": {
    "collapsed": true
   },
   "outputs": [],
   "source": [
    "all_genres = []\n",
    "for elem in events:\n",
    "    # Pass all NaNs\n",
    "    if type(elem[ARTISTS_COLUMN]) == float:\n",
    "        continue\n",
    "    elem_artists = eval(elem[ARTISTS_COLUMN])\n",
    "    for artist in elem_artists:\n",
    "        if 'genres' in artist:\n",
    "            all_genres.extend(artist['genres'])\n",
    "all_genres = list(set(all_genres))"
   ]
  },
  {
   "cell_type": "code",
   "execution_count": 235,
   "metadata": {
    "collapsed": false
   },
   "outputs": [
    {
     "data": {
      "text/plain": [
       "MultiLabelBinarizer(classes=None, sparse_output=False)"
      ]
     },
     "execution_count": 235,
     "metadata": {},
     "output_type": "execute_result"
    }
   ],
   "source": [
    "all_genres_mlb = sklearn.preprocessing.MultiLabelBinarizer()\n",
    "all_genres_mlb.fit([all_genres])"
   ]
  },
  {
   "cell_type": "code",
   "execution_count": 249,
   "metadata": {
    "collapsed": false
   },
   "outputs": [],
   "source": [
    "def artist_feature(elem):\n",
    "    elem_artist_names = []\n",
    "    elem_genres = []\n",
    "    if type(elem[ARTISTS_COLUMN]) != float:\n",
    "        for artist in eval(elem[ARTISTS_COLUMN]):\n",
    "            # Due to high execution time I deleted artist names feature\n",
    "            # if 'name' in artist:\n",
    "            #     elem_artist_names.append(artist['name'])\n",
    "            if 'genres' in artist:\n",
    "                elem_genres.extend(artist['genres'])\n",
    "    yield all_genres_mlb.transform([elem_genres])[0]"
   ]
  },
  {
   "cell_type": "markdown",
   "metadata": {},
   "source": [
    "### Cost"
   ]
  },
  {
   "cell_type": "code",
   "execution_count": 262,
   "metadata": {
    "collapsed": false
   },
   "outputs": [],
   "source": [
    "different_costs = []\n",
    "for elem in events:\n",
    "    different_costs.append(str(elem[COST_COLUMN]))\n",
    "different_costs = list(set(different_costs))"
   ]
  },
  {
   "cell_type": "code",
   "execution_count": 263,
   "metadata": {
    "collapsed": false
   },
   "outputs": [
    {
     "data": {
      "text/plain": [
       "LabelBinarizer(neg_label=0, pos_label=1, sparse_output=False)"
      ]
     },
     "execution_count": 263,
     "metadata": {},
     "output_type": "execute_result"
    }
   ],
   "source": [
    "cost_lb = sklearn.preprocessing.LabelBinarizer()\n",
    "cost_lb.fit(different_costs)"
   ]
  },
  {
   "cell_type": "code",
   "execution_count": 264,
   "metadata": {
    "collapsed": true
   },
   "outputs": [],
   "source": [
    "def cost_feature(elem):\n",
    "    yield cost_lb.transform([str(elem[COST_COLUMN])])[0]"
   ]
  },
  {
   "cell_type": "markdown",
   "metadata": {},
   "source": [
    "### Description"
   ]
  },
  {
   "cell_type": "code",
   "execution_count": 336,
   "metadata": {
    "collapsed": true
   },
   "outputs": [],
   "source": [
    "stemmer = nltk.stem.snowball.SnowballStemmer('english')\n",
    "\n",
    "\n",
    "def prepare_description(text):\n",
    "    stoplist = set('for a of the and to in at | www http https com'.split())\n",
    "    words = []\n",
    "    for word in text.lower().split():\n",
    "        if word not in stoplist:\n",
    "            words.append(stemmer.stem(word))\n",
    "    return words"
   ]
  },
  {
   "cell_type": "code",
   "execution_count": 337,
   "metadata": {
    "collapsed": false
   },
   "outputs": [],
   "source": [
    "documents = []\n",
    "for elem in events:\n",
    "    desc = elem[DESCRIPTION_COLUMN]\n",
    "    if type(desc) == float:\n",
    "        continue\n",
    "    try:\n",
    "        documents.append(' '.join(json.loads(desc)))\n",
    "    except json.JSONDecodeError:\n",
    "        documents.append(desc)"
   ]
  },
  {
   "cell_type": "code",
   "execution_count": 338,
   "metadata": {
    "collapsed": false
   },
   "outputs": [
    {
     "name": "stderr",
     "output_type": "stream",
     "text": [
      "100%|██████████| 8283/8283 [00:11<00:00, 747.43it/s] \n"
     ]
    }
   ],
   "source": [
    "texts = [prepare_description(document)\n",
    "         for document in tqdm.tqdm(documents)]\n",
    "frequency = defaultdict(int)\n",
    "for text in texts:\n",
    "    for token in text:\n",
    "        frequency[token] += 1\n",
    "texts = [[token for token in text if frequency[token] > 1]\n",
    "         for text in texts]"
   ]
  },
  {
   "cell_type": "code",
   "execution_count": 339,
   "metadata": {
    "collapsed": false
   },
   "outputs": [],
   "source": [
    "dictionary = gensim.corpora.Dictionary(texts)\n",
    "corpus = [dictionary.doc2bow(text) for text in texts]\n",
    "# tfidf = gensim.models.TfidfModel(corpus)"
   ]
  },
  {
   "cell_type": "code",
   "execution_count": 579,
   "metadata": {
    "collapsed": false
   },
   "outputs": [],
   "source": [
    "lda = gensim.models.LdaModel(corpus, id2word=dictionary, num_topics=20)"
   ]
  },
  {
   "cell_type": "code",
   "execution_count": 581,
   "metadata": {
    "collapsed": false
   },
   "outputs": [
    {
     "data": {
      "text/plain": [
       "[(17,\n",
       "  '0.013*\"v\" + 0.011*\"women\" + 0.007*\"youtub\" + 0.007*\"ymusic\" + 0.007*\"door\"'),\n",
       " (9,\n",
       "  '0.030*\"blue\" + 0.017*\"band\" + 0.013*\"new\" + 0.011*\"york\" + 0.010*\"featur\"'),\n",
       " (1,\n",
       "  '0.017*\"music\" + 0.017*\"jazz\" + 0.014*\"latin\" + 0.013*\"perform\" + 0.012*\"new\"'),\n",
       " (5,\n",
       "  '0.023*\"ticket\" + 0.022*\"30pm\" + 0.019*\"will\" + 0.018*\"door\" + 0.016*\"00pm\"'),\n",
       " (7,\n",
       "  '0.018*\"music\" + 0.010*\"new\" + 0.009*\"record\" + 0.008*\"perform\" + 0.007*\"album\"')]"
      ]
     },
     "execution_count": 581,
     "metadata": {},
     "output_type": "execute_result"
    }
   ],
   "source": [
    "lda.show_topics(num_topics=5, num_words=5)"
   ]
  },
  {
   "cell_type": "code",
   "execution_count": 382,
   "metadata": {
    "collapsed": true
   },
   "outputs": [],
   "source": [
    "def description_feature(elem):\n",
    "    if type(elem[DESCRIPTION_COLUMN]) is float:\n",
    "        yield np.zeros(20)\n",
    "        return\n",
    "    text = elem[DESCRIPTION_COLUMN]\n",
    "    try:\n",
    "        desc = ' '.join(json.loads(text))\n",
    "    except json.JSONDecodeError:\n",
    "        desc = text\n",
    "    desc = prepare_description(desc)\n",
    "    desc = [token for token in desc if frequency[token] > 1]\n",
    "    bow = dictionary.doc2bow(desc)\n",
    "    topics = lda.get_document_topics(bow, minimum_probability=0)\n",
    "    vec = [topic[1] for topic in topics]\n",
    "    yield np.asarray(vec)"
   ]
  },
  {
   "cell_type": "markdown",
   "metadata": {},
   "source": [
    "### Aggregate all features"
   ]
  },
  {
   "cell_type": "code",
   "execution_count": 383,
   "metadata": {
    "collapsed": true
   },
   "outputs": [],
   "source": [
    "feature_generators = [ticket_status_feature, artist_feature, cost_feature, description_feature]"
   ]
  },
  {
   "cell_type": "code",
   "execution_count": 393,
   "metadata": {
    "collapsed": false
   },
   "outputs": [
    {
     "name": "stderr",
     "output_type": "stream",
     "text": [
      "100%|██████████| 12697/12697 [03:27<00:00, 61.17it/s]\n"
     ]
    }
   ],
   "source": [
    "events_features = None\n",
    "current_index = 0\n",
    "genre_groups = defaultdict(set)\n",
    "for elem in tqdm.tqdm(events):\n",
    "    elem_features = np.empty((0), dtype='float64')\n",
    "    for generator in feature_generators:\n",
    "        for feature in generator(elem):\n",
    "            if type(feature) in [float, int]:\n",
    "                elem_features = np.concatenate([elem_features, np.asarray([feature], dtype='float64')])\n",
    "            else:\n",
    "                elem_features = np.concatenate([elem_features, feature])\n",
    "    if events_features is None:\n",
    "        events_features = elem_features\n",
    "        events_features.resize((1, elem_features.shape[0]))\n",
    "    else:\n",
    "        elem_features.resize((1, elem_features.shape[0]))\n",
    "        events_features = np.concatenate([events_features, elem_features])\n",
    "    genre_categories = eval(elem[GENRE_CATEGORIES_COLUMN])\n",
    "    for category in genre_categories:\n",
    "        genre_groups[category].add(current_index)\n",
    "    current_index += 1"
   ]
  },
  {
   "cell_type": "code",
   "execution_count": 365,
   "metadata": {
    "collapsed": false
   },
   "outputs": [
    {
     "data": {
      "text/plain": [
       "(1, 1860)"
      ]
     },
     "execution_count": 365,
     "metadata": {},
     "output_type": "execute_result"
    }
   ],
   "source": [
    "events_features.shape"
   ]
  },
  {
   "cell_type": "markdown",
   "metadata": {},
   "source": [
    "## Making model"
   ]
  },
  {
   "cell_type": "markdown",
   "metadata": {},
   "source": [
    "### Single class classifier"
   ]
  },
  {
   "cell_type": "code",
   "execution_count": 424,
   "metadata": {
    "collapsed": false
   },
   "outputs": [],
   "source": [
    "# Find true examples\n",
    "X = None\n",
    "for event_index in genre_groups['rock']:\n",
    "    event = events_features[event_index]\n",
    "    if X is None:\n",
    "        X = np.resize(event, (1, event.shape[0]))\n",
    "    else:\n",
    "        X = np.concatenate(\n",
    "            [X,\n",
    "             np.resize(event, (1, event.shape[0]))]\n",
    "        )\n",
    "Y = np.ones(X.shape[0])"
   ]
  },
  {
   "cell_type": "code",
   "execution_count": 427,
   "metadata": {
    "collapsed": false
   },
   "outputs": [],
   "source": [
    "# And false examples\n",
    "true_samples_num = len(X)\n",
    "false_genres = set(genre_groups.keys())\n",
    "false_genres.remove('rock')\n",
    "for genre in false_genres:\n",
    "    # Balance training set\n",
    "    for event_index in list(genre_groups[genre])[:int(true_samples_num / len(false_genres))]:\n",
    "        if event_index in genre_groups['rock']:\n",
    "            continue\n",
    "        event = events_features[event_index]\n",
    "        X = np.concatenate(\n",
    "            [X,\n",
    "             np.resize(event, (1, event.shape[0]))]\n",
    "        )\n",
    "        Y = np.concatenate(\n",
    "            [Y, [0]]\n",
    "        )"
   ]
  },
  {
   "cell_type": "code",
   "execution_count": 446,
   "metadata": {
    "collapsed": false
   },
   "outputs": [],
   "source": [
    "X_train, X_test, y_train, y_test = sklearn.cross_validation.train_test_split(X, Y, random_state=42)"
   ]
  },
  {
   "cell_type": "code",
   "execution_count": 547,
   "metadata": {
    "collapsed": false
   },
   "outputs": [
    {
     "data": {
      "text/plain": [
       "LinearSVC(C=1.0, class_weight=None, dual=True, fit_intercept=True,\n",
       "     intercept_scaling=1, loss='squared_hinge', max_iter=1000,\n",
       "     multi_class='ovr', penalty='l2', random_state=None, tol=0.0001,\n",
       "     verbose=0)"
      ]
     },
     "execution_count": 547,
     "metadata": {},
     "output_type": "execute_result"
    }
   ],
   "source": [
    "# Support vector machine\n",
    "clf = sklearn.svm.LinearSVC()\n",
    "\n",
    "# Random forest\n",
    "# clf = sklearn.tree.RandomForestClassifier()\n",
    "\n",
    "# SGD\n",
    "# clf = sklearn.linear_model.SGDClassifier()\n",
    "\n",
    "clf.fit(X_train, y_train)"
   ]
  },
  {
   "cell_type": "code",
   "execution_count": 530,
   "metadata": {
    "collapsed": false
   },
   "outputs": [
    {
     "data": {
      "text/plain": [
       "{'C': 0.5,\n",
       " 'class_weight': None,\n",
       " 'dual': True,\n",
       " 'fit_intercept': True,\n",
       " 'intercept_scaling': 1,\n",
       " 'loss': 'squared_hinge',\n",
       " 'max_iter': 1000,\n",
       " 'multi_class': 'ovr',\n",
       " 'penalty': 'l2',\n",
       " 'random_state': None,\n",
       " 'tol': 0.0001,\n",
       " 'verbose': 0}"
      ]
     },
     "execution_count": 530,
     "metadata": {},
     "output_type": "execute_result"
    }
   ],
   "source": [
    "clf.get_params()"
   ]
  },
  {
   "cell_type": "code",
   "execution_count": 548,
   "metadata": {
    "collapsed": false
   },
   "outputs": [
    {
     "name": "stdout",
     "output_type": "stream",
     "text": [
      "Accuracy score 0.83064516129\n",
      "F1 score 0.886486486486\n"
     ]
    }
   ],
   "source": [
    "print('Accuracy score', sklearn.metrics.accuracy_score(clf.predict(X_test), y_test))\n",
    "print('F1 score', sklearn.metrics.f1_score(clf.predict(X_test), y_test))"
   ]
  },
  {
   "cell_type": "code",
   "execution_count": 549,
   "metadata": {
    "collapsed": false
   },
   "outputs": [
    {
     "name": "stdout",
     "output_type": "stream",
     "text": [
      "ROC AUC score 0.841179197182\n"
     ]
    }
   ],
   "source": [
    "y_score = clf.decision_function(X_test)\n",
    "#y_score = clf.predict_proba(X_test)[:, 1]\n",
    "fpr, tpr, _ = sklearn.metrics.roc_curve(y_test, y_score)\n",
    "roc_auc = sklearn.metrics.auc(fpr, tpr)\n",
    "print('ROC AUC score', roc_auc)"
   ]
  },
  {
   "cell_type": "code",
   "execution_count": 533,
   "metadata": {
    "collapsed": false
   },
   "outputs": [
    {
     "data": {
      "image/png": "[encoded data removed]",
      "text/plain": [
       "<matplotlib.figure.Figure at 0x7f69c73c2c88>"
      ]
     },
     "metadata": {},
     "output_type": "display_data"
    }
   ],
   "source": [
    "plt.figure()\n",
    "plt.plot(fpr, tpr, label='ROC curve (area = %0.2f)' % roc_auc)\n",
    "plt.plot([0, 1], [0, 1], 'k--')\n",
    "plt.xlim([0.0, 1.0])\n",
    "plt.ylim([0.0, 1.05])\n",
    "plt.xlabel('False Positive Rate')\n",
    "plt.ylabel('True Positive Rate')\n",
    "plt.title('Receiver operating characteristic')\n",
    "plt.legend(loc=\"lower right\")\n",
    "plt.show()"
   ]
  },
  {
   "cell_type": "markdown",
   "metadata": {},
   "source": [
    "### Creating classifier for all genres"
   ]
  },
  {
   "cell_type": "code",
   "execution_count": 551,
   "metadata": {
    "collapsed": false
   },
   "outputs": [
    {
     "data": {
      "text/plain": [
       "MultiLabelBinarizer(classes=None, sparse_output=False)"
      ]
     },
     "execution_count": 551,
     "metadata": {},
     "output_type": "execute_result"
    }
   ],
   "source": [
    "event_genre_mlb = sklearn.preprocessing.MultiLabelBinarizer()\n",
    "event_genre_mlb.fit([list(genre_groups.keys())])"
   ]
  },
  {
   "cell_type": "code",
   "execution_count": 571,
   "metadata": {
    "collapsed": false
   },
   "outputs": [
    {
     "name": "stderr",
     "output_type": "stream",
     "text": [
      "100%|██████████| 12697/12697 [02:46<00:00, 76.21it/s]\n"
     ]
    }
   ],
   "source": [
    "X, Y = None, None\n",
    "current_index = 0\n",
    "for event in tqdm.tqdm(events_features):\n",
    "    genre_categories = eval(events[current_index][GENRE_CATEGORIES_COLUMN])\n",
    "    y_vec = event_genre_mlb.transform([genre_categories])\n",
    "    if X is None:\n",
    "        X = np.resize(event, (1, event.shape[0]))\n",
    "    else:\n",
    "        X = np.concatenate(\n",
    "            [X,\n",
    "             np.resize(event, (1, event.shape[0]))]\n",
    "        )\n",
    "    if Y is None:\n",
    "        Y = np.resize(y_vec, (1, y_vec.shape[1]))\n",
    "    else:\n",
    "        Y = np.concatenate(\n",
    "            [Y,\n",
    "             np.resize(y_vec, (1, y_vec.shape[1]))]\n",
    "        )\n",
    "    current_index += 1"
   ]
  },
  {
   "cell_type": "code",
   "execution_count": 572,
   "metadata": {
    "collapsed": true
   },
   "outputs": [],
   "source": [
    "X_train, X_test, y_train, y_test = sklearn.cross_validation.train_test_split(X, Y, random_state=42)"
   ]
  },
  {
   "cell_type": "code",
   "execution_count": 573,
   "metadata": {
    "collapsed": false
   },
   "outputs": [],
   "source": [
    "clf = sklearn.multiclass.OneVsRestClassifier(sklearn.svm.LinearSVC())\n",
    "clf.fit(X_train, y_train)\n",
    "y_score = clf.decision_function(X_test)"
   ]
  },
  {
   "cell_type": "code",
   "execution_count": 584,
   "metadata": {
    "collapsed": false
   },
   "outputs": [
    {
     "name": "stdout",
     "output_type": "stream",
     "text": [
      "0.941078938855\n",
      "0.968278041074\n",
      "nan\n",
      "nan\n",
      "0.921331014959\n",
      "nan\n",
      "0.918318806652\n",
      "0.832750397456\n",
      "0.940216602305\n",
      "0.833078419099\n",
      "0.977025316456\n",
      "0.942112852782\n",
      "nan\n",
      "0.891906244844\n",
      "0.681234879562\n",
      "0.952729971316\n"
     ]
    },
    {
     "name": "stderr",
     "output_type": "stream",
     "text": [
      "/home/sheldonai/anaconda3/lib/python3.5/site-packages/sklearn/metrics/ranking.py:538: UndefinedMetricWarning: No positive samples in y_true, true positive value should be meaningless\n",
      "  UndefinedMetricWarning)\n",
      "/home/sheldonai/anaconda3/lib/python3.5/site-packages/matplotlib/axes/_axes.py:531: UserWarning: No labelled objects found. Use label='...' kwarg on individual plots.\n",
      "  warnings.warn(\"No labelled objects found. \"\n"
     ]
    },
    {
     "data": {
      "image/png": "[encoded data removed]",
      "text/plain": [
       "<matplotlib.figure.Figure at 0x7f69c4b98c18>"
      ]
     },
     "metadata": {},
     "output_type": "display_data"
    }
   ],
   "source": [
    "fpr = dict()\n",
    "tpr = dict()\n",
    "roc_auc = dict()\n",
    "for i in range(len(genre_groups.keys())):\n",
    "    fpr[i], tpr[i], _ = sklearn.metrics.roc_curve(y_test[:, i], y_score[:, i])\n",
    "    roc_auc[i] = sklearn.metrics.auc(fpr[i], tpr[i])\n",
    "\n",
    "# Compute micro-average ROC curve and ROC area\n",
    "fpr[\"micro\"], tpr[\"micro\"], _ = sklearn.metrics.roc_curve(y_test.ravel(), y_score.ravel())\n",
    "roc_auc[\"micro\"] = sklearn.metrics.auc(fpr[\"micro\"], tpr[\"micro\"])\n",
    "\n",
    "# Plot ROC curve\n",
    "plt.figure()\n",
    "plt.plot(fpr[\"micro\"], tpr[\"micro\"])\n",
    "for i in range(len(genre_groups.keys())):\n",
    "    plt.plot(fpr[i], tpr[i])\n",
    "    print(roc_auc[i])\n",
    "\n",
    "plt.plot([0, 1], [0, 1], 'k--')\n",
    "plt.xlim([0.0, 1.0])\n",
    "plt.ylim([0.0, 1.05])\n",
    "plt.xlabel('False Positive Rate')\n",
    "plt.ylabel('True Positive Rate')\n",
    "plt.title('Receiver operating characteristic')\n",
    "plt.legend(loc=\"lower right\")\n",
    "plt.show()"
   ]
  }
 ],
 "metadata": {
  "anaconda-cloud": {},
  "kernelspec": {
   "display_name": "Python [conda root]",
   "language": "python",
   "name": "conda-root-py"
  },
  "language_info": {
   "codemirror_mode": {
    "name": "ipython",
    "version": 3
   },
   "file_extension": ".py",
   "mimetype": "text/x-python",
   "name": "python",
   "nbconvert_exporter": "python",
   "pygments_lexer": "ipython3",
   "version": "3.5.2"
  }
 },
 "nbformat": 4,
 "nbformat_minor": 2
}
